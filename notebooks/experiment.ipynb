{
 "cells": [
  {
   "cell_type": "code",
   "execution_count": null,
   "id": "77d3e73e-6783-40db-a52f-144e301440e5",
   "metadata": {},
   "outputs": [],
   "source": [
    "import numpy as np\n",
    "import matplotlib.pyplot as plt\n",
    "\n",
    "import defdap.hrdic as hrdic\n",
    "import defdap.ebsd as ebsd\n",
    "import defdap.experiment as experiment\n",
    "\n",
    "from pathlib import Path\n",
    "\n",
    "%matplotlib inline"
   ]
  },
  {
   "cell_type": "code",
   "execution_count": null,
   "id": "6888c481-eb38-410d-9869-0f17944f9dfc",
   "metadata": {},
   "outputs": [],
   "source": [
    "exp = experiment.Experiment()"
   ]
  },
  {
   "cell_type": "code",
   "execution_count": null,
   "id": "2ae42113-e960-4c0c-b800-62604bfefc9f",
   "metadata": {},
   "outputs": [],
   "source": [
    "data_dir = Path('/Users/user/Downloads/small_DIC_data_set/')"
   ]
  },
  {
   "cell_type": "code",
   "execution_count": null,
   "id": "d31f7404-43fc-4f5d-b677-53e0ea92d0ae",
   "metadata": {},
   "outputs": [],
   "source": [
    "dic_frame = experiment.Frame()\n",
    "for dic_file in sorted(data_dir.glob('B*.txt')):\n",
    "    hrdic.Map(dic_file, experiment=exp, frame=dic_frame)"
   ]
  },
  {
   "cell_type": "code",
   "execution_count": null,
   "id": "668198bc-0f2d-4121-95e4-ff7cdf9bc1c1",
   "metadata": {},
   "outputs": [],
   "source": [
    "ebsd_frame = experiment.Frame()\n",
    "ebsd.Map(\n",
    "    data_dir / 'A3_zone1.cpr',\n",
    "    increment=exp.increments[0], frame=experiment.Frame()\n",
    ")"
   ]
  },
  {
   "cell_type": "code",
   "execution_count": null,
   "id": "7cbd31ce-6ac5-4890-bdf4-f8bbc7dd4cd6",
   "metadata": {},
   "outputs": [],
   "source": [
    "dic_map = exp.increments[0].maps['hrdic']\n",
    "dic_map.frame.homog_points = [\n",
    "    (259, 225), \n",
    "    (322, 376), \n",
    "    (91, 21), \n",
    "    (365, 97)\n",
    "]\n",
    "ebsd_map = exp.increments[0].maps['ebsd']\n",
    "ebsd_map.frame.homog_points = [\n",
    "    (90, 84), \n",
    "    (110, 141), \n",
    "    (31, 10), \n",
    "    (128, 40)\n",
    "]"
   ]
  },
  {
   "cell_type": "code",
   "execution_count": null,
   "id": "2fd94bd2-5485-485a-812a-33628c575a29",
   "metadata": {},
   "outputs": [],
   "source": [
    "for inc, dic_map in exp.iter_over_maps('hrdic'):\n",
    "    dic_map.link_ebsd_map(ebsd_map, transform_type=\"affine\")\n",
    "    dic_map.plot_map(\n",
    "        'max_shear', vmin=0, vmax=0.10, \n",
    "        plot_scale_bar=False, plot_gbs='line'\n",
    "    )\n",
    "    plt.tight_layout()"
   ]
  },
  {
   "cell_type": "code",
   "execution_count": null,
   "id": "7fef2016-c924-41a4-8036-8240f46cc1fc",
   "metadata": {},
   "outputs": [],
   "source": []
  },
  {
   "cell_type": "code",
   "execution_count": null,
   "id": "457eba02-2eda-4fe3-b70a-40f73aae3bf1",
   "metadata": {},
   "outputs": [],
   "source": []
  }
 ],
 "metadata": {
  "kernelspec": {
   "display_name": "Python [conda env:defdap]",
   "language": "python",
   "name": "conda-env-defdap-py"
  },
  "language_info": {
   "codemirror_mode": {
    "name": "ipython",
    "version": 3
   },
   "file_extension": ".py",
   "mimetype": "text/x-python",
   "name": "python",
   "nbconvert_exporter": "python",
   "pygments_lexer": "ipython3",
   "version": "3.11.0"
  }
 },
 "nbformat": 4,
 "nbformat_minor": 5
}
